{
  "nbformat": 4,
  "nbformat_minor": 0,
  "metadata": {
    "colab": {
      "name": "Face_Emotion_recognition.ipynb",
      "provenance": [],
      "authorship_tag": "ABX9TyPuiDqoVd7UklA1E1reoUO4",
      "include_colab_link": true
    },
    "kernelspec": {
      "name": "python3",
      "display_name": "Python 3"
    },
    "language_info": {
      "name": "python"
    },
    "accelerator": "GPU"
  },
  "cells": [
    {
      "cell_type": "markdown",
      "metadata": {
        "id": "view-in-github",
        "colab_type": "text"
      },
      "source": [
        "<a href=\"https://colab.research.google.com/github/pranay2310/Face-Emotion-Recognition/blob/main/Face_Emotion_recognition.ipynb\" target=\"_parent\"><img src=\"https://colab.research.google.com/assets/colab-badge.svg\" alt=\"Open In Colab\"/></a>"
      ]
    },
    {
      "cell_type": "code",
      "execution_count": 1,
      "metadata": {
        "colab": {
          "base_uri": "https://localhost:8080/"
        },
        "id": "I0tlYAYKCUna",
        "outputId": "1dcdff52-c636-4dcf-c49a-fa39321d3611"
      },
      "outputs": [
        {
          "output_type": "stream",
          "name": "stdout",
          "text": [
            "--2022-05-09 09:02:58--  https://www.dropbox.com/s/si11cws2pyho1bp/archive.zip\n",
            "Resolving www.dropbox.com (www.dropbox.com)... 162.125.3.18, 2620:100:6018:18::a27d:312\n",
            "Connecting to www.dropbox.com (www.dropbox.com)|162.125.3.18|:443... connected.\n",
            "HTTP request sent, awaiting response... 301 Moved Permanently\n",
            "Location: /s/raw/si11cws2pyho1bp/archive.zip [following]\n",
            "--2022-05-09 09:02:58--  https://www.dropbox.com/s/raw/si11cws2pyho1bp/archive.zip\n",
            "Reusing existing connection to www.dropbox.com:443.\n",
            "HTTP request sent, awaiting response... 302 Found\n",
            "Location: https://ucdf643b991b33585a93409a0757.dl.dropboxusercontent.com/cd/0/inline/Bk6uBtDeF6gCYtLfBu3G6QH9jmGF_k4q4HZmm_cPNQIvNg3kIefXSBq9qOtJOuku6jRdV2qOwcJVFC5AXtW9GK7mi_xq_tAAT5FWlp9QjxRCJvXlKwPxDGiyjxfFRwCwSHklZmisdv4QgpW2uNAlZUak55XpSU7He6BN8mDCQCqkJA/file# [following]\n",
            "--2022-05-09 09:02:58--  https://ucdf643b991b33585a93409a0757.dl.dropboxusercontent.com/cd/0/inline/Bk6uBtDeF6gCYtLfBu3G6QH9jmGF_k4q4HZmm_cPNQIvNg3kIefXSBq9qOtJOuku6jRdV2qOwcJVFC5AXtW9GK7mi_xq_tAAT5FWlp9QjxRCJvXlKwPxDGiyjxfFRwCwSHklZmisdv4QgpW2uNAlZUak55XpSU7He6BN8mDCQCqkJA/file\n",
            "Resolving ucdf643b991b33585a93409a0757.dl.dropboxusercontent.com (ucdf643b991b33585a93409a0757.dl.dropboxusercontent.com)... 162.125.3.15, 2620:100:6018:15::a27d:30f\n",
            "Connecting to ucdf643b991b33585a93409a0757.dl.dropboxusercontent.com (ucdf643b991b33585a93409a0757.dl.dropboxusercontent.com)|162.125.3.15|:443... connected.\n",
            "HTTP request sent, awaiting response... 302 Found\n",
            "Location: /cd/0/inline2/Bk4Lm8hm5O6Jv22EIN9xK3lxTmWWnFxComPyWxcn5xD9hkjPjn2pYZBRcXA_4VTbkB6jKscWOTTFeQSqOwIjHoqvLFEsEeoDBzOCwpAmfQhR2DaKkV0tWKeRiFkC2r4neWYrBUzQqk1hKzsesdjGFJansilXy2BkV6b-IUJbZM9NAMzcfVXPgLIvlQlY8cawjqi9X7iZWusrNEXha6FFmMv9SCst9fYJJjqRDPAx0hB_d-pCI5rJ4Uve8fv8a7bUAca8JQ5TPDvBrTvCUNG45cDEzFvv07BCxu-V1v1S_kVegjKByZk5PvvO2cdlPpJRb_8RQxi7YIdTRMs94RttQPOP0DIwb5XgRR9tsH1YOSjcDe3MU_KA3e005hIEImgzutwEiD2OytWoBsidupFYaL-vPIcKnTLZ6I11VueXvu16Ng/file [following]\n",
            "--2022-05-09 09:02:58--  https://ucdf643b991b33585a93409a0757.dl.dropboxusercontent.com/cd/0/inline2/Bk4Lm8hm5O6Jv22EIN9xK3lxTmWWnFxComPyWxcn5xD9hkjPjn2pYZBRcXA_4VTbkB6jKscWOTTFeQSqOwIjHoqvLFEsEeoDBzOCwpAmfQhR2DaKkV0tWKeRiFkC2r4neWYrBUzQqk1hKzsesdjGFJansilXy2BkV6b-IUJbZM9NAMzcfVXPgLIvlQlY8cawjqi9X7iZWusrNEXha6FFmMv9SCst9fYJJjqRDPAx0hB_d-pCI5rJ4Uve8fv8a7bUAca8JQ5TPDvBrTvCUNG45cDEzFvv07BCxu-V1v1S_kVegjKByZk5PvvO2cdlPpJRb_8RQxi7YIdTRMs94RttQPOP0DIwb5XgRR9tsH1YOSjcDe3MU_KA3e005hIEImgzutwEiD2OytWoBsidupFYaL-vPIcKnTLZ6I11VueXvu16Ng/file\n",
            "Reusing existing connection to ucdf643b991b33585a93409a0757.dl.dropboxusercontent.com:443.\n",
            "HTTP request sent, awaiting response... 200 OK\n",
            "Length: 63252113 (60M) [application/zip]\n",
            "Saving to: ‘archive.zip’\n",
            "\n",
            "archive.zip         100%[===================>]  60.32M  83.6MB/s    in 0.7s    \n",
            "\n",
            "2022-05-09 09:03:00 (83.6 MB/s) - ‘archive.zip’ saved [63252113/63252113]\n",
            "\n"
          ]
        }
      ],
      "source": [
        "!wget https://www.dropbox.com/s/si11cws2pyho1bp/archive.zip"
      ]
    },
    {
      "cell_type": "code",
      "source": [
        "!unzip -q \"/content/archive.zip\""
      ],
      "metadata": {
        "id": "3J3AujjyDuBB"
      },
      "execution_count": 2,
      "outputs": []
    },
    {
      "cell_type": "code",
      "source": [
        "# Imports required for this project\n",
        "import tensorflow as tf\n",
        "import numpy as np\n",
        "import matplotlib.pyplot as plt\n",
        "from pathlib import Path\n",
        "\n",
        "tf.random.set_seed(4)"
      ],
      "metadata": {
        "id": "YPlvfMjeD72z"
      },
      "execution_count": 3,
      "outputs": []
    },
    {
      "cell_type": "code",
      "source": [
        "# Creating the Pathlib PATH objects\n",
        "train_path = Path(\"/content/train\")\n",
        "test_path = Path(\"/content/test\")"
      ],
      "metadata": {
        "id": "3UgdFXuOD8XL"
      },
      "execution_count": 4,
      "outputs": []
    },
    {
      "cell_type": "code",
      "source": [
        "# Getting Image paths \n",
        "train_image_paths = list(train_path.glob(\"*/*\"))\n",
        "train_image_paths = list(map(lambda x : str(x) , train_image_paths))\n",
        "\n",
        "train_image_paths[:10]"
      ],
      "metadata": {
        "colab": {
          "base_uri": "https://localhost:8080/"
        },
        "id": "gLqlRRR_D_AR",
        "outputId": "4f047844-2127-40db-c7e8-cde968ab5eb7"
      },
      "execution_count": 5,
      "outputs": [
        {
          "output_type": "execute_result",
          "data": {
            "text/plain": [
              "['/content/train/sad/Training_12195505.jpg',\n",
              " '/content/train/sad/Training_17691747.jpg',\n",
              " '/content/train/sad/Training_56443213.jpg',\n",
              " '/content/train/sad/Training_94616100.jpg',\n",
              " '/content/train/sad/Training_61537371.jpg',\n",
              " '/content/train/sad/Training_75611272.jpg',\n",
              " '/content/train/sad/Training_84961559.jpg',\n",
              " '/content/train/sad/Training_30502448.jpg',\n",
              " '/content/train/sad/Training_32880257.jpg',\n",
              " '/content/train/sad/Training_11569849.jpg']"
            ]
          },
          "metadata": {},
          "execution_count": 5
        }
      ]
    },
    {
      "cell_type": "code",
      "source": [
        "# Getting their respective labels \n",
        "\n",
        "def get_label(image_path):\n",
        "    return image_path.split(\"/\")[-2]\n",
        "\n",
        "train_image_labels = list(map(lambda x : get_label(x) , train_image_paths))\n",
        "train_image_labels[:10]"
      ],
      "metadata": {
        "colab": {
          "base_uri": "https://localhost:8080/"
        },
        "id": "baNTP-gVECLy",
        "outputId": "67368da8-4239-42e1-cd25-a4d45745a14b"
      },
      "execution_count": 6,
      "outputs": [
        {
          "output_type": "execute_result",
          "data": {
            "text/plain": [
              "['sad', 'sad', 'sad', 'sad', 'sad', 'sad', 'sad', 'sad', 'sad', 'sad']"
            ]
          },
          "metadata": {},
          "execution_count": 6
        }
      ]
    },
    {
      "cell_type": "code",
      "source": [
        "from sklearn.preprocessing import LabelEncoder \n",
        "\n",
        "Le = LabelEncoder()\n",
        "train_image_labels = Le.fit_transform(train_image_labels)\n",
        "\n",
        "train_image_labels[:10]"
      ],
      "metadata": {
        "colab": {
          "base_uri": "https://localhost:8080/"
        },
        "id": "r3YHWCOcEGmO",
        "outputId": "d120272b-e338-4cab-cba3-35faae307611"
      },
      "execution_count": 7,
      "outputs": [
        {
          "output_type": "execute_result",
          "data": {
            "text/plain": [
              "array([5, 5, 5, 5, 5, 5, 5, 5, 5, 5])"
            ]
          },
          "metadata": {},
          "execution_count": 7
        }
      ]
    },
    {
      "cell_type": "code",
      "source": [
        "train_image_labels = tf.keras.utils.to_categorical(train_image_labels)\n",
        "\n",
        "train_image_labels[:10]"
      ],
      "metadata": {
        "colab": {
          "base_uri": "https://localhost:8080/"
        },
        "id": "Je9C2XqFEOEH",
        "outputId": "164b80c9-ed24-420f-cce2-684b03a2c7fb"
      },
      "execution_count": 8,
      "outputs": [
        {
          "output_type": "execute_result",
          "data": {
            "text/plain": [
              "array([[0., 0., 0., 0., 0., 1., 0.],\n",
              "       [0., 0., 0., 0., 0., 1., 0.],\n",
              "       [0., 0., 0., 0., 0., 1., 0.],\n",
              "       [0., 0., 0., 0., 0., 1., 0.],\n",
              "       [0., 0., 0., 0., 0., 1., 0.],\n",
              "       [0., 0., 0., 0., 0., 1., 0.],\n",
              "       [0., 0., 0., 0., 0., 1., 0.],\n",
              "       [0., 0., 0., 0., 0., 1., 0.],\n",
              "       [0., 0., 0., 0., 0., 1., 0.],\n",
              "       [0., 0., 0., 0., 0., 1., 0.]], dtype=float32)"
            ]
          },
          "metadata": {},
          "execution_count": 8
        }
      ]
    },
    {
      "cell_type": "code",
      "source": [
        ""
      ],
      "metadata": {
        "id": "OO3cubXhEOfe"
      },
      "execution_count": null,
      "outputs": []
    }
  ]
}