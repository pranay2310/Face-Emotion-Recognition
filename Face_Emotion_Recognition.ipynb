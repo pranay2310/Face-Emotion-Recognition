{
  "nbformat": 4,
  "nbformat_minor": 0,
  "metadata": {
    "colab": {
      "name": "Face Emotion Recognition.ipynb",
      "provenance": [],
      "collapsed_sections": [],
      "authorship_tag": "ABX9TyOuDIHEShXIySgpvmBHTcTE",
      "include_colab_link": true
    },
    "kernelspec": {
      "name": "python3",
      "display_name": "Python 3"
    },
    "language_info": {
      "name": "python"
    }
  },
  "cells": [
    {
      "cell_type": "markdown",
      "metadata": {
        "id": "view-in-github",
        "colab_type": "text"
      },
      "source": [
        "<a href=\"https://colab.research.google.com/github/pranay2310/Face-Emotion-Recognition/blob/main/Face_Emotion_Recognition.ipynb\" target=\"_parent\"><img src=\"https://colab.research.google.com/assets/colab-badge.svg\" alt=\"Open In Colab\"/></a>"
      ]
    },
    {
      "cell_type": "code",
      "execution_count": 1,
      "metadata": {
        "colab": {
          "base_uri": "https://localhost:8080/"
        },
        "id": "U2bDMa-Vyw-q",
        "outputId": "6e76e0e4-83ba-4d49-e784-4693c4be7dbe"
      },
      "outputs": [
        {
          "output_type": "stream",
          "name": "stdout",
          "text": [
            "Mounted at /content/drive\n"
          ]
        }
      ],
      "source": [
        "from google.colab import drive\n",
        "drive.mount('/content/drive')"
      ]
    },
    {
      "cell_type": "code",
      "source": [
        "!wget https://www.dropbox.com/s/si11cws2pyho1bp/archive.zip"
      ],
      "metadata": {
        "colab": {
          "base_uri": "https://localhost:8080/"
        },
        "id": "y-iXEpxaz2Qu",
        "outputId": "aa75fe4e-9432-4ecd-b193-3dd09f9d9dd2"
      },
      "execution_count": 2,
      "outputs": [
        {
          "output_type": "stream",
          "name": "stdout",
          "text": [
            "--2022-05-27 04:45:23--  https://www.dropbox.com/s/si11cws2pyho1bp/archive.zip\n",
            "Resolving www.dropbox.com (www.dropbox.com)... 162.125.81.18, 2620:100:6017:18::a27d:212\n",
            "Connecting to www.dropbox.com (www.dropbox.com)|162.125.81.18|:443... connected.\n",
            "HTTP request sent, awaiting response... 301 Moved Permanently\n",
            "Location: /s/raw/si11cws2pyho1bp/archive.zip [following]\n",
            "--2022-05-27 04:45:24--  https://www.dropbox.com/s/raw/si11cws2pyho1bp/archive.zip\n",
            "Reusing existing connection to www.dropbox.com:443.\n",
            "HTTP request sent, awaiting response... 302 Found\n",
            "Location: https://uc619e071be781cacc5ebe0f40aa.dl.dropboxusercontent.com/cd/0/inline/BmC7CAdYxn-A7WbJZ_N_vlv_c5tDZ1QU-E3L4t_4evUDpGlENVx17FDobcnt--_mpiVx3Xr-7RUVLXhR1Pqz5Oq3F4x2S0Od8AXMZxqL_LUhuUAQ9c_IxakSNvJxvp9Ox6kHpjA1N26lc3qgrXRNwuGNfNZoipTs_a82kyEd8_w8_Q/file# [following]\n",
            "--2022-05-27 04:45:24--  https://uc619e071be781cacc5ebe0f40aa.dl.dropboxusercontent.com/cd/0/inline/BmC7CAdYxn-A7WbJZ_N_vlv_c5tDZ1QU-E3L4t_4evUDpGlENVx17FDobcnt--_mpiVx3Xr-7RUVLXhR1Pqz5Oq3F4x2S0Od8AXMZxqL_LUhuUAQ9c_IxakSNvJxvp9Ox6kHpjA1N26lc3qgrXRNwuGNfNZoipTs_a82kyEd8_w8_Q/file\n",
            "Resolving uc619e071be781cacc5ebe0f40aa.dl.dropboxusercontent.com (uc619e071be781cacc5ebe0f40aa.dl.dropboxusercontent.com)... 162.125.85.15, 2620:100:6035:15::a27d:550f\n",
            "Connecting to uc619e071be781cacc5ebe0f40aa.dl.dropboxusercontent.com (uc619e071be781cacc5ebe0f40aa.dl.dropboxusercontent.com)|162.125.85.15|:443... connected.\n",
            "HTTP request sent, awaiting response... 302 Found\n",
            "Location: /cd/0/inline2/BmAmLryxCsyCtSyotHXtnqg5Q_DqbBMXwIEd3FdDCmt6lClP5SIKRkciWMesbxM6nOjl18XEcVIGyHT8kHneA6gD1JWX-DJetNIXJ-f0UawM3M2QWjtlq3ILRTMox9YGJXXevKFkFlYHBpdlIsiLNwLABuCp6p9gju2l8ANu-elO2UxkxiN3JhLgkAAMsCDV5N7-vaVLST6gxucua39k4iwH1niIEVWSn6Pgos9Tf_MX0ilJDlrmRSpI_8XTuFyDbYgQ3Ozo2RwXey-2_2RyY5Akx1gzDVuppmhgf2srHciX5s1Eo0Nj6JkYGzZnz3FJp4sNA8HV5I6GomYo8OR1mHgRj4xqOPlYiGlJxP03g5HOpBpxLxeiQNFWSkiZP206xnLaVr0gqUqwGqfxoglWwyzY-_FXPNrO9uK8yrAkhQuJ7w/file [following]\n",
            "--2022-05-27 04:45:25--  https://uc619e071be781cacc5ebe0f40aa.dl.dropboxusercontent.com/cd/0/inline2/BmAmLryxCsyCtSyotHXtnqg5Q_DqbBMXwIEd3FdDCmt6lClP5SIKRkciWMesbxM6nOjl18XEcVIGyHT8kHneA6gD1JWX-DJetNIXJ-f0UawM3M2QWjtlq3ILRTMox9YGJXXevKFkFlYHBpdlIsiLNwLABuCp6p9gju2l8ANu-elO2UxkxiN3JhLgkAAMsCDV5N7-vaVLST6gxucua39k4iwH1niIEVWSn6Pgos9Tf_MX0ilJDlrmRSpI_8XTuFyDbYgQ3Ozo2RwXey-2_2RyY5Akx1gzDVuppmhgf2srHciX5s1Eo0Nj6JkYGzZnz3FJp4sNA8HV5I6GomYo8OR1mHgRj4xqOPlYiGlJxP03g5HOpBpxLxeiQNFWSkiZP206xnLaVr0gqUqwGqfxoglWwyzY-_FXPNrO9uK8yrAkhQuJ7w/file\n",
            "Reusing existing connection to uc619e071be781cacc5ebe0f40aa.dl.dropboxusercontent.com:443.\n",
            "HTTP request sent, awaiting response... 200 OK\n",
            "Length: 63252113 (60M) [application/zip]\n",
            "Saving to: ‘archive.zip’\n",
            "\n",
            "archive.zip         100%[===================>]  60.32M  21.9MB/s    in 2.8s    \n",
            "\n",
            "2022-05-27 04:45:28 (21.9 MB/s) - ‘archive.zip’ saved [63252113/63252113]\n",
            "\n"
          ]
        }
      ]
    },
    {
      "cell_type": "code",
      "source": [
        "!unzip -q \"/content/archive.zip\""
      ],
      "metadata": {
        "id": "087iz63x0Gg8"
      },
      "execution_count": 3,
      "outputs": []
    },
    {
      "cell_type": "code",
      "source": [
        "import numpy as np # linear algebra\n",
        "import pandas as pd # data processing, CSV file I/O (e.g. pd.read_csv)\n",
        "import os\n",
        "import matplotlib.pyplot as plt\n",
        "import seaborn as sns\n",
        "import tensorflow as tf\n",
        "import keras\n",
        "from keras.preprocessing import image\n",
        "from keras.models import Sequential\n",
        "from keras.layers import Conv2D, MaxPool2D, Flatten,Dense,Dropout,BatchNormalization\n",
        "from tensorflow.keras.preprocessing.image import ImageDataGenerator\n",
        "import cv2\n",
        "from tensorflow.keras.applications import VGG16, InceptionResNetV2\n",
        "from keras import regularizers\n",
        "from tensorflow.keras.optimizers import Adam,RMSprop,SGD,Adamax"
      ],
      "metadata": {
        "id": "JvxlKjTjBdJh"
      },
      "execution_count": 4,
      "outputs": []
    },
    {
      "cell_type": "code",
      "source": [
        "train_dir = \"/content/train\" #passing the path with training images\n",
        "test_dir = \"/content/test\"   #passing the path with testing images"
      ],
      "metadata": {
        "id": "I4BsaqyLBjB0"
      },
      "execution_count": 5,
      "outputs": []
    },
    {
      "cell_type": "code",
      "source": [
        "img_size = 48 #original size of the image"
      ],
      "metadata": {
        "id": "nf9BWunXe0-h"
      },
      "execution_count": 6,
      "outputs": []
    },
    {
      "cell_type": "code",
      "source": [
        "\"\"\"\n",
        "Data Augmentation\n",
        "--------------------------\n",
        "rotation_range = rotates the image with the amount of degrees we provide\n",
        "width_shift_range = shifts the image randomly to the right or left along the width of the image\n",
        "height_shift range = shifts image randomly to up or below along the height of the image\n",
        "horizontal_flip = flips the image horizontally\n",
        "rescale = to scale down the pizel values in our image between 0 and 1\n",
        "zoom_range = applies random zoom to our object\n",
        "validation_split = reserves some images to be used for validation purpose\n",
        "\"\"\"\n",
        "\n",
        "train_datagen = ImageDataGenerator(#rotation_range = 180,\n",
        "                                         width_shift_range = 0.1,\n",
        "                                         height_shift_range = 0.1,\n",
        "                                         horizontal_flip = True,\n",
        "                                         rescale = 1./255,\n",
        "                                         #zoom_range = 0.2,\n",
        "                                         validation_split = 0.2\n",
        "                                        )\n",
        "validation_datagen = ImageDataGenerator(rescale = 1./255,\n",
        "                                         validation_split = 0.2)"
      ],
      "metadata": {
        "id": "zslzkYzPgV4L"
      },
      "execution_count": 7,
      "outputs": []
    },
    {
      "cell_type": "code",
      "source": [
        "\"\"\"\n",
        "Applying data augmentation to the images as we read \n",
        "them from their respectivve directories\n",
        "\"\"\"\n",
        "train_generator = train_datagen.flow_from_directory(directory = train_dir,\n",
        "                                                    target_size = (img_size,img_size),\n",
        "                                                    batch_size = 64,\n",
        "                                                    color_mode = \"grayscale\",\n",
        "                                                    class_mode = \"categorical\",\n",
        "                                                    subset = \"training\"\n",
        "                                                   )\n",
        "validation_generator = validation_datagen.flow_from_directory( directory = test_dir,\n",
        "                                                              target_size = (img_size,img_size),\n",
        "                                                              batch_size = 64,\n",
        "                                                              color_mode = \"grayscale\",\n",
        "                                                              class_mode = \"categorical\",\n",
        "                                                              subset = \"validation\"\n",
        "                                                             )"
      ],
      "metadata": {
        "id": "ZKt5q4gfgW4A",
        "colab": {
          "base_uri": "https://localhost:8080/"
        },
        "outputId": "e363e020-381a-45ca-9122-a7265e219ea3"
      },
      "execution_count": 8,
      "outputs": [
        {
          "output_type": "stream",
          "name": "stdout",
          "text": [
            "Found 22968 images belonging to 7 classes.\n",
            "Found 1432 images belonging to 7 classes.\n"
          ]
        }
      ]
    },
    {
      "cell_type": "code",
      "source": [
        "model= tf.keras.models.Sequential()\n",
        "model.add(Conv2D(32, kernel_size=(3, 3), padding='same', activation='relu', input_shape=(48, 48,1)))\n",
        "model.add(Conv2D(64,(3,3), padding='same', activation='relu' ))\n",
        "model.add(BatchNormalization())\n",
        "model.add(MaxPool2D(pool_size=(2, 2)))\n",
        "model.add(Dropout(0.25))\n",
        "\n",
        "model.add(Conv2D(128,(5,5), padding='same', activation='relu'))\n",
        "model.add(BatchNormalization())\n",
        "model.add(MaxPool2D(pool_size=(2, 2)))\n",
        "model.add(Dropout(0.25))\n",
        "    \n",
        "model.add(Conv2D(512,(3,3), padding='same', activation='relu', kernel_regularizer=regularizers.l2(0.01)))\n",
        "model.add(BatchNormalization())\n",
        "model.add(MaxPool2D(pool_size=(2, 2)))\n",
        "model.add(Dropout(0.25))\n",
        "\n",
        "model.add(Conv2D(512,(3,3), padding='same', activation='relu', kernel_regularizer=regularizers.l2(0.01)))\n",
        "model.add(BatchNormalization())\n",
        "model.add(MaxPool2D(pool_size=(2, 2)))\n",
        "model.add(Dropout(0.25))\n",
        "\n",
        "model.add(Flatten()) \n",
        "model.add(Dense(256,activation = 'relu'))\n",
        "model.add(BatchNormalization())\n",
        "model.add(Dropout(0.25))\n",
        "    \n",
        "model.add(Dense(512,activation = 'relu'))\n",
        "model.add(BatchNormalization())\n",
        "model.add(Dropout(0.25))\n",
        "\n",
        "model.add(Dense(7, activation='softmax'))\n",
        "\n",
        "model.compile(\n",
        "    optimizer = Adam(lr=0.0001), \n",
        "    loss='categorical_crossentropy', \n",
        "    metrics=['accuracy']\n",
        "  )"
      ],
      "metadata": {
        "colab": {
          "base_uri": "https://localhost:8080/"
        },
        "id": "9RdAAZjw1qKl",
        "outputId": "938416c3-379e-4bc6-8881-41ed635956d7"
      },
      "execution_count": 9,
      "outputs": [
        {
          "output_type": "stream",
          "name": "stderr",
          "text": [
            "/usr/local/lib/python3.7/dist-packages/keras/optimizer_v2/adam.py:105: UserWarning: The `lr` argument is deprecated, use `learning_rate` instead.\n",
            "  super(Adam, self).__init__(name, **kwargs)\n"
          ]
        }
      ]
    },
    {
      "cell_type": "code",
      "source": [
        "epochs = 60\n",
        "batch_size = 64"
      ],
      "metadata": {
        "id": "kzK6cJxz1rtf"
      },
      "execution_count": 10,
      "outputs": []
    },
    {
      "cell_type": "code",
      "source": [
        "model.summary()"
      ],
      "metadata": {
        "colab": {
          "base_uri": "https://localhost:8080/"
        },
        "id": "W5iT2T5g12xD",
        "outputId": "d32254a1-6220-490f-89ec-31e6ec4f8c32"
      },
      "execution_count": 11,
      "outputs": [
        {
          "output_type": "stream",
          "name": "stdout",
          "text": [
            "Model: \"sequential\"\n",
            "_________________________________________________________________\n",
            " Layer (type)                Output Shape              Param #   \n",
            "=================================================================\n",
            " conv2d (Conv2D)             (None, 48, 48, 32)        320       \n",
            "                                                                 \n",
            " conv2d_1 (Conv2D)           (None, 48, 48, 64)        18496     \n",
            "                                                                 \n",
            " batch_normalization (BatchN  (None, 48, 48, 64)       256       \n",
            " ormalization)                                                   \n",
            "                                                                 \n",
            " max_pooling2d (MaxPooling2D  (None, 24, 24, 64)       0         \n",
            " )                                                               \n",
            "                                                                 \n",
            " dropout (Dropout)           (None, 24, 24, 64)        0         \n",
            "                                                                 \n",
            " conv2d_2 (Conv2D)           (None, 24, 24, 128)       204928    \n",
            "                                                                 \n",
            " batch_normalization_1 (Batc  (None, 24, 24, 128)      512       \n",
            " hNormalization)                                                 \n",
            "                                                                 \n",
            " max_pooling2d_1 (MaxPooling  (None, 12, 12, 128)      0         \n",
            " 2D)                                                             \n",
            "                                                                 \n",
            " dropout_1 (Dropout)         (None, 12, 12, 128)       0         \n",
            "                                                                 \n",
            " conv2d_3 (Conv2D)           (None, 12, 12, 512)       590336    \n",
            "                                                                 \n",
            " batch_normalization_2 (Batc  (None, 12, 12, 512)      2048      \n",
            " hNormalization)                                                 \n",
            "                                                                 \n",
            " max_pooling2d_2 (MaxPooling  (None, 6, 6, 512)        0         \n",
            " 2D)                                                             \n",
            "                                                                 \n",
            " dropout_2 (Dropout)         (None, 6, 6, 512)         0         \n",
            "                                                                 \n",
            " conv2d_4 (Conv2D)           (None, 6, 6, 512)         2359808   \n",
            "                                                                 \n",
            " batch_normalization_3 (Batc  (None, 6, 6, 512)        2048      \n",
            " hNormalization)                                                 \n",
            "                                                                 \n",
            " max_pooling2d_3 (MaxPooling  (None, 3, 3, 512)        0         \n",
            " 2D)                                                             \n",
            "                                                                 \n",
            " dropout_3 (Dropout)         (None, 3, 3, 512)         0         \n",
            "                                                                 \n",
            " flatten (Flatten)           (None, 4608)              0         \n",
            "                                                                 \n",
            " dense (Dense)               (None, 256)               1179904   \n",
            "                                                                 \n",
            " batch_normalization_4 (Batc  (None, 256)              1024      \n",
            " hNormalization)                                                 \n",
            "                                                                 \n",
            " dropout_4 (Dropout)         (None, 256)               0         \n",
            "                                                                 \n",
            " dense_1 (Dense)             (None, 512)               131584    \n",
            "                                                                 \n",
            " batch_normalization_5 (Batc  (None, 512)              2048      \n",
            " hNormalization)                                                 \n",
            "                                                                 \n",
            " dropout_5 (Dropout)         (None, 512)               0         \n",
            "                                                                 \n",
            " dense_2 (Dense)             (None, 7)                 3591      \n",
            "                                                                 \n",
            "=================================================================\n",
            "Total params: 4,496,903\n",
            "Trainable params: 4,492,935\n",
            "Non-trainable params: 3,968\n",
            "_________________________________________________________________\n"
          ]
        }
      ]
    },
    {
      "cell_type": "code",
      "source": [
        ""
      ],
      "metadata": {
        "id": "L_a-kzHP18Aj"
      },
      "execution_count": null,
      "outputs": []
    }
  ]
}