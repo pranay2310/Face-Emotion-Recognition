{
  "nbformat": 4,
  "nbformat_minor": 0,
  "metadata": {
    "colab": {
      "name": "Face Emotion Recognition.ipynb",
      "provenance": [],
      "authorship_tag": "ABX9TyO+REOOOi6CFyCMZ7+VD3+J",
      "include_colab_link": true
    },
    "kernelspec": {
      "name": "python3",
      "display_name": "Python 3"
    },
    "language_info": {
      "name": "python"
    }
  },
  "cells": [
    {
      "cell_type": "markdown",
      "metadata": {
        "id": "view-in-github",
        "colab_type": "text"
      },
      "source": [
        "<a href=\"https://colab.research.google.com/github/pranay2310/Face-Emotion-Recognition/blob/main/Face_Emotion_Recognition.ipynb\" target=\"_parent\"><img src=\"https://colab.research.google.com/assets/colab-badge.svg\" alt=\"Open In Colab\"/></a>"
      ]
    },
    {
      "cell_type": "code",
      "execution_count": 1,
      "metadata": {
        "colab": {
          "base_uri": "https://localhost:8080/"
        },
        "id": "U2bDMa-Vyw-q",
        "outputId": "a938d93f-b3df-4623-b509-bf9b06245972"
      },
      "outputs": [
        {
          "output_type": "stream",
          "name": "stdout",
          "text": [
            "Mounted at /content/drive\n"
          ]
        }
      ],
      "source": [
        "from google.colab import drive\n",
        "drive.mount('/content/drive')"
      ]
    },
    {
      "cell_type": "code",
      "source": [
        "!wget https://www.dropbox.com/s/si11cws2pyho1bp/archive.zip"
      ],
      "metadata": {
        "colab": {
          "base_uri": "https://localhost:8080/"
        },
        "id": "y-iXEpxaz2Qu",
        "outputId": "32bcb162-f22b-4947-f2eb-38733d37cde2"
      },
      "execution_count": 2,
      "outputs": [
        {
          "output_type": "stream",
          "name": "stdout",
          "text": [
            "--2022-05-24 11:25:18--  https://www.dropbox.com/s/si11cws2pyho1bp/archive.zip\n",
            "Resolving www.dropbox.com (www.dropbox.com)... 162.125.80.18, 2620:100:6017:18::a27d:212\n",
            "Connecting to www.dropbox.com (www.dropbox.com)|162.125.80.18|:443... connected.\n",
            "HTTP request sent, awaiting response... 301 Moved Permanently\n",
            "Location: /s/raw/si11cws2pyho1bp/archive.zip [following]\n",
            "--2022-05-24 11:25:18--  https://www.dropbox.com/s/raw/si11cws2pyho1bp/archive.zip\n",
            "Reusing existing connection to www.dropbox.com:443.\n",
            "HTTP request sent, awaiting response... 302 Found\n",
            "Location: https://uc37ab4d6fb93d24547e1651ffe5.dl.dropboxusercontent.com/cd/0/inline/Bl0dEBAnHvLnAN4kOFetcanL9P3_jF1_nRSY_GVh5Hn90zE1KlcKffPVCwSX-3YgDvXN7mPdrwcswx7atT5TUTCSyXefg4UCCybIRqP90nu6E-M2da3cQWwVnj88bJPVfqLA-OxCCUbFCZefSVEtZ33X0G4LkjzKLH23G1xqmRgm9Q/file# [following]\n",
            "--2022-05-24 11:25:19--  https://uc37ab4d6fb93d24547e1651ffe5.dl.dropboxusercontent.com/cd/0/inline/Bl0dEBAnHvLnAN4kOFetcanL9P3_jF1_nRSY_GVh5Hn90zE1KlcKffPVCwSX-3YgDvXN7mPdrwcswx7atT5TUTCSyXefg4UCCybIRqP90nu6E-M2da3cQWwVnj88bJPVfqLA-OxCCUbFCZefSVEtZ33X0G4LkjzKLH23G1xqmRgm9Q/file\n",
            "Resolving uc37ab4d6fb93d24547e1651ffe5.dl.dropboxusercontent.com (uc37ab4d6fb93d24547e1651ffe5.dl.dropboxusercontent.com)... 162.125.85.15, 2620:100:6017:15::a27d:20f\n",
            "Connecting to uc37ab4d6fb93d24547e1651ffe5.dl.dropboxusercontent.com (uc37ab4d6fb93d24547e1651ffe5.dl.dropboxusercontent.com)|162.125.85.15|:443... connected.\n",
            "HTTP request sent, awaiting response... 302 Found\n",
            "Location: /cd/0/inline2/Bl3Y1M7UzsuFp_y9wj7z8sFtDPeayXO8hXraf14V_f4fN9Kgvtq-HJ5djgk9OPuCJinNX0Z77ffAIxbJYueiA6_NV-kr9I9VFsiT0WYtZVusabGakawz0FU7a37NfrTzTefxEYWb3QTgQ7YuncmTRss6s-8a55vJodpjGX4a2_uBVW9lcqV-R4oPv0xO91BCzH-hOZMoBi7cm9WzWPjbAEyxhQy3lMk-gQI-exuOzqdKDDdWBIJVZBUz_FGsxqzix8iKhXsgl2_DKh0XZjZsx-MsiQMz45zgmYnxYQrQvkOcH4ctihwc2WxigwXRBaPa5Q4vOzbn6HyMBJDQZ54CMSsWjYYlTn5fBCCPLHDShYnyGA5vRkMRE19LhYpGkmwnoWqHgDghM55SRZOGUd_a6JE_GT7RnP4D4GFHAIyc0WuB3Q/file [following]\n",
            "--2022-05-24 11:25:19--  https://uc37ab4d6fb93d24547e1651ffe5.dl.dropboxusercontent.com/cd/0/inline2/Bl3Y1M7UzsuFp_y9wj7z8sFtDPeayXO8hXraf14V_f4fN9Kgvtq-HJ5djgk9OPuCJinNX0Z77ffAIxbJYueiA6_NV-kr9I9VFsiT0WYtZVusabGakawz0FU7a37NfrTzTefxEYWb3QTgQ7YuncmTRss6s-8a55vJodpjGX4a2_uBVW9lcqV-R4oPv0xO91BCzH-hOZMoBi7cm9WzWPjbAEyxhQy3lMk-gQI-exuOzqdKDDdWBIJVZBUz_FGsxqzix8iKhXsgl2_DKh0XZjZsx-MsiQMz45zgmYnxYQrQvkOcH4ctihwc2WxigwXRBaPa5Q4vOzbn6HyMBJDQZ54CMSsWjYYlTn5fBCCPLHDShYnyGA5vRkMRE19LhYpGkmwnoWqHgDghM55SRZOGUd_a6JE_GT7RnP4D4GFHAIyc0WuB3Q/file\n",
            "Reusing existing connection to uc37ab4d6fb93d24547e1651ffe5.dl.dropboxusercontent.com:443.\n",
            "HTTP request sent, awaiting response... 200 OK\n",
            "Length: 63252113 (60M) [application/zip]\n",
            "Saving to: ‘archive.zip’\n",
            "\n",
            "archive.zip         100%[===================>]  60.32M  21.0MB/s    in 2.9s    \n",
            "\n",
            "2022-05-24 11:25:22 (21.0 MB/s) - ‘archive.zip’ saved [63252113/63252113]\n",
            "\n"
          ]
        }
      ]
    },
    {
      "cell_type": "code",
      "source": [
        ""
      ],
      "metadata": {
        "id": "087iz63x0Gg8"
      },
      "execution_count": null,
      "outputs": []
    }
  ]
}