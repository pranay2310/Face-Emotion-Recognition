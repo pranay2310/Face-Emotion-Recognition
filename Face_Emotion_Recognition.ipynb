{
  "nbformat": 4,
  "nbformat_minor": 0,
  "metadata": {
    "colab": {
      "name": "Face Emotion Recognition.ipynb",
      "provenance": [],
      "authorship_tag": "ABX9TyPMjj7aREDPYyrvkXge5oDp",
      "include_colab_link": true
    },
    "kernelspec": {
      "name": "python3",
      "display_name": "Python 3"
    },
    "language_info": {
      "name": "python"
    }
  },
  "cells": [
    {
      "cell_type": "markdown",
      "metadata": {
        "id": "view-in-github",
        "colab_type": "text"
      },
      "source": [
        "<a href=\"https://colab.research.google.com/github/pranay2310/Face-Emotion-Recognition/blob/main/Face_Emotion_Recognition.ipynb\" target=\"_parent\"><img src=\"https://colab.research.google.com/assets/colab-badge.svg\" alt=\"Open In Colab\"/></a>"
      ]
    },
    {
      "cell_type": "code",
      "execution_count": 1,
      "metadata": {
        "colab": {
          "base_uri": "https://localhost:8080/"
        },
        "id": "U2bDMa-Vyw-q",
        "outputId": "d917deb5-56b1-4f67-90a1-e1398cf5d98b"
      },
      "outputs": [
        {
          "output_type": "stream",
          "name": "stdout",
          "text": [
            "Mounted at /content/drive\n"
          ]
        }
      ],
      "source": [
        "from google.colab import drive\n",
        "drive.mount('/content/drive')"
      ]
    },
    {
      "cell_type": "code",
      "source": [
        "!wget https://www.dropbox.com/s/si11cws2pyho1bp/archive.zip"
      ],
      "metadata": {
        "colab": {
          "base_uri": "https://localhost:8080/"
        },
        "id": "y-iXEpxaz2Qu",
        "outputId": "985ca708-f154-4abb-baf5-b4ef0a7799b1"
      },
      "execution_count": 2,
      "outputs": [
        {
          "output_type": "stream",
          "name": "stdout",
          "text": [
            "--2022-05-26 03:48:24--  https://www.dropbox.com/s/si11cws2pyho1bp/archive.zip\n",
            "Resolving www.dropbox.com (www.dropbox.com)... 162.125.5.18, 2620:100:601d:18::a27d:512\n",
            "Connecting to www.dropbox.com (www.dropbox.com)|162.125.5.18|:443... connected.\n",
            "HTTP request sent, awaiting response... 301 Moved Permanently\n",
            "Location: /s/raw/si11cws2pyho1bp/archive.zip [following]\n",
            "--2022-05-26 03:48:24--  https://www.dropbox.com/s/raw/si11cws2pyho1bp/archive.zip\n",
            "Reusing existing connection to www.dropbox.com:443.\n",
            "HTTP request sent, awaiting response... 302 Found\n",
            "Location: https://ucdf63aa0fa42b68518520130250.dl.dropboxusercontent.com/cd/0/inline/Bl-o_6fCTIG9ziR_grpzLtI0wsxDj4Z8ES0ba8GFaj4WJVxsY2e86v6Em2DlSfu74WRK7Ulwh3Q9KsEjJCpFV8hQqflgPPlAcACbwMnwyYXj_QOAIf09Yqk6eybKJp2iuuZX-enp9hOjJn5yYvPdAfEjygyYvd41FRHINNLI3q9UPg/file# [following]\n",
            "--2022-05-26 03:48:25--  https://ucdf63aa0fa42b68518520130250.dl.dropboxusercontent.com/cd/0/inline/Bl-o_6fCTIG9ziR_grpzLtI0wsxDj4Z8ES0ba8GFaj4WJVxsY2e86v6Em2DlSfu74WRK7Ulwh3Q9KsEjJCpFV8hQqflgPPlAcACbwMnwyYXj_QOAIf09Yqk6eybKJp2iuuZX-enp9hOjJn5yYvPdAfEjygyYvd41FRHINNLI3q9UPg/file\n",
            "Resolving ucdf63aa0fa42b68518520130250.dl.dropboxusercontent.com (ucdf63aa0fa42b68518520130250.dl.dropboxusercontent.com)... 162.125.5.15, 2620:100:601d:15::a27d:50f\n",
            "Connecting to ucdf63aa0fa42b68518520130250.dl.dropboxusercontent.com (ucdf63aa0fa42b68518520130250.dl.dropboxusercontent.com)|162.125.5.15|:443... connected.\n",
            "HTTP request sent, awaiting response... 302 Found\n",
            "Location: /cd/0/inline2/Bl8-nX07AqxHWL6AhQ2d0uuxrWnxomEeXUAv1f4Jofg1qJzrPzy4XHMGriUbWJExuUZe8KQzphfPuO_Y2N_hNVcmrbaa7K5nS8g35XPc8gb432G7HMyPlTPQzaLEAYCUPq_V0Lx8lyXEtXh1vicl4rLGEmAZMByIGc29LbqteeOt1IQsSUw-nTzXHX1rRGzjA1oFEHWc3CF1kZvvq3uOYyCdHxUxcrNBv3EMLRsE0E7Tl_4sbeh3Zy7ISJ2H3NuQYtq3S3OwxGA6KRreKZPPRfugpFDb8Tms5VGC57zuisYPxAyjgCqnEmYbAbvIu6eeFpJ1wxyN3XI7bc4brLi_OFu1tuCBWhk7FKnyp9w1Vn_zFK3_HYbtl0UkNh9ZNbbFP1id5mNPFAfvWI1DoktWUXwXnTzEaE22ehCKZVn_0694gA/file [following]\n",
            "--2022-05-26 03:48:25--  https://ucdf63aa0fa42b68518520130250.dl.dropboxusercontent.com/cd/0/inline2/Bl8-nX07AqxHWL6AhQ2d0uuxrWnxomEeXUAv1f4Jofg1qJzrPzy4XHMGriUbWJExuUZe8KQzphfPuO_Y2N_hNVcmrbaa7K5nS8g35XPc8gb432G7HMyPlTPQzaLEAYCUPq_V0Lx8lyXEtXh1vicl4rLGEmAZMByIGc29LbqteeOt1IQsSUw-nTzXHX1rRGzjA1oFEHWc3CF1kZvvq3uOYyCdHxUxcrNBv3EMLRsE0E7Tl_4sbeh3Zy7ISJ2H3NuQYtq3S3OwxGA6KRreKZPPRfugpFDb8Tms5VGC57zuisYPxAyjgCqnEmYbAbvIu6eeFpJ1wxyN3XI7bc4brLi_OFu1tuCBWhk7FKnyp9w1Vn_zFK3_HYbtl0UkNh9ZNbbFP1id5mNPFAfvWI1DoktWUXwXnTzEaE22ehCKZVn_0694gA/file\n",
            "Reusing existing connection to ucdf63aa0fa42b68518520130250.dl.dropboxusercontent.com:443.\n",
            "HTTP request sent, awaiting response... 200 OK\n",
            "Length: 63252113 (60M) [application/zip]\n",
            "Saving to: ‘archive.zip’\n",
            "\n",
            "archive.zip         100%[===================>]  60.32M  23.9MB/s    in 2.5s    \n",
            "\n",
            "2022-05-26 03:48:28 (23.9 MB/s) - ‘archive.zip’ saved [63252113/63252113]\n",
            "\n"
          ]
        }
      ]
    },
    {
      "cell_type": "code",
      "source": [
        "!unzip -q \"/content/archive.zip\""
      ],
      "metadata": {
        "id": "087iz63x0Gg8"
      },
      "execution_count": 3,
      "outputs": []
    },
    {
      "cell_type": "code",
      "source": [
        "import numpy as np # linear algebra\n",
        "import pandas as pd # data processing, CSV file I/O (e.g. pd.read_csv)\n",
        "import os\n",
        "import matplotlib.pyplot as plt\n",
        "import seaborn as sns\n",
        "import tensorflow as tf\n",
        "import keras\n",
        "from keras.preprocessing import image\n",
        "from keras.models import Sequential\n",
        "from keras.layers import Conv2D, MaxPool2D, Flatten,Dense,Dropout,BatchNormalization\n",
        "from tensorflow.keras.preprocessing.image import ImageDataGenerator\n",
        "import cv2\n",
        "from tensorflow.keras.applications import VGG16, InceptionResNetV2\n",
        "from keras import regularizers\n",
        "from tensorflow.keras.optimizers import Adam,RMSprop,SGD,Adamax"
      ],
      "metadata": {
        "id": "JvxlKjTjBdJh"
      },
      "execution_count": 4,
      "outputs": []
    },
    {
      "cell_type": "code",
      "source": [
        "train_dir = \"/content/train\" #passing the path with training images\n",
        "test_dir = \"/content/test\"   #passing the path with testing images"
      ],
      "metadata": {
        "id": "I4BsaqyLBjB0"
      },
      "execution_count": 5,
      "outputs": []
    },
    {
      "cell_type": "code",
      "source": [
        "img_size = 48 #original size of the image"
      ],
      "metadata": {
        "id": "nf9BWunXe0-h"
      },
      "execution_count": 6,
      "outputs": []
    }
  ]
}