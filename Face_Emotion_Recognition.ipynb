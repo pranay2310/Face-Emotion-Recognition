{
  "nbformat": 4,
  "nbformat_minor": 0,
  "metadata": {
    "colab": {
      "name": "Face Emotion Recognition.ipynb",
      "provenance": [],
      "authorship_tag": "ABX9TyPjPwvuLQgC1gHZfAneqC+P",
      "include_colab_link": true
    },
    "kernelspec": {
      "name": "python3",
      "display_name": "Python 3"
    },
    "language_info": {
      "name": "python"
    }
  },
  "cells": [
    {
      "cell_type": "markdown",
      "metadata": {
        "id": "view-in-github",
        "colab_type": "text"
      },
      "source": [
        "<a href=\"https://colab.research.google.com/github/pranay2310/Face-Emotion-Recognition/blob/main/Face_Emotion_Recognition.ipynb\" target=\"_parent\"><img src=\"https://colab.research.google.com/assets/colab-badge.svg\" alt=\"Open In Colab\"/></a>"
      ]
    },
    {
      "cell_type": "code",
      "execution_count": 1,
      "metadata": {
        "colab": {
          "base_uri": "https://localhost:8080/"
        },
        "id": "U2bDMa-Vyw-q",
        "outputId": "f2e54755-bd70-43e4-ecd8-35fdfffba95f"
      },
      "outputs": [
        {
          "output_type": "stream",
          "name": "stdout",
          "text": [
            "Mounted at /content/drive\n"
          ]
        }
      ],
      "source": [
        "from google.colab import drive\n",
        "drive.mount('/content/drive')"
      ]
    },
    {
      "cell_type": "code",
      "source": [
        "!wget https://www.dropbox.com/s/si11cws2pyho1bp/archive.zip"
      ],
      "metadata": {
        "colab": {
          "base_uri": "https://localhost:8080/"
        },
        "id": "y-iXEpxaz2Qu",
        "outputId": "978ca0e5-22b9-471b-e331-751bd869704c"
      },
      "execution_count": 2,
      "outputs": [
        {
          "output_type": "stream",
          "name": "stdout",
          "text": [
            "--2022-05-25 02:22:32--  https://www.dropbox.com/s/si11cws2pyho1bp/archive.zip\n",
            "Resolving www.dropbox.com (www.dropbox.com)... 162.125.9.18, 2620:100:601b:18::a27d:812\n",
            "Connecting to www.dropbox.com (www.dropbox.com)|162.125.9.18|:443... connected.\n",
            "HTTP request sent, awaiting response... 301 Moved Permanently\n",
            "Location: /s/raw/si11cws2pyho1bp/archive.zip [following]\n",
            "--2022-05-25 02:22:32--  https://www.dropbox.com/s/raw/si11cws2pyho1bp/archive.zip\n",
            "Reusing existing connection to www.dropbox.com:443.\n",
            "HTTP request sent, awaiting response... 302 Found\n",
            "Location: https://uced8525f4895bf1deaf642da461.dl.dropboxusercontent.com/cd/0/inline/Bl5xu9VY1Yr8eDGWKTqhCjI6xJV2g2_3Im3ZIBlz4tWMATSSxP8fS9j2Q9wNiwhBOgJ7hqsxOWl_GudDBRtwUWlhlLlmXbiCw_5G4LRWP76gfFCUvr_bP5Bb6afSo23kVN-8DDF1TDDMP65dJ8PeWoK5WQJie5TYn0621IhsgROIUg/file# [following]\n",
            "--2022-05-25 02:22:32--  https://uced8525f4895bf1deaf642da461.dl.dropboxusercontent.com/cd/0/inline/Bl5xu9VY1Yr8eDGWKTqhCjI6xJV2g2_3Im3ZIBlz4tWMATSSxP8fS9j2Q9wNiwhBOgJ7hqsxOWl_GudDBRtwUWlhlLlmXbiCw_5G4LRWP76gfFCUvr_bP5Bb6afSo23kVN-8DDF1TDDMP65dJ8PeWoK5WQJie5TYn0621IhsgROIUg/file\n",
            "Resolving uced8525f4895bf1deaf642da461.dl.dropboxusercontent.com (uced8525f4895bf1deaf642da461.dl.dropboxusercontent.com)... 162.125.8.15, 2620:100:601b:15::a27d:80f\n",
            "Connecting to uced8525f4895bf1deaf642da461.dl.dropboxusercontent.com (uced8525f4895bf1deaf642da461.dl.dropboxusercontent.com)|162.125.8.15|:443... connected.\n",
            "HTTP request sent, awaiting response... 302 Found\n",
            "Location: /cd/0/inline2/Bl5vIMbLD2rinnzXnjQVzDPdpEJwzvEddrb05EJH6FyWTgk2LkNxB_XU2G6bwcFg_HAiiAJX2R38bRSIxa62pjEBRtUMSJfctn9UauXff01ZwA6GJhv0tfLWyEvB1SENsxa47IgMpdL8WbBRyJ8WDwWKMyfJaxPwYFk5f9CHv9N8eVcyzJGl4TR22_3lCJBMVoOkJ4pjjUeMjdYVTehPyQPk3FaKv1VLM_mBFRstz1KOrRXUWKSvEeK1og3yBoZhOS_pk_Adi3Bl6oqNn9ob8nWEM5eDI4nXncPorF60g36lDL-I4LPJPBI0tzqkz7v7FxZXPQbwfu8ysbb9sr8uR_zNa6oRH842P8hVl_7PmrGxRxU_ncU57lsTN481suGwSTQ8rMHj5qzD3fHIYcD6_GvmNeAl5reRpJGJGJKsLwHeSA/file [following]\n",
            "--2022-05-25 02:22:33--  https://uced8525f4895bf1deaf642da461.dl.dropboxusercontent.com/cd/0/inline2/Bl5vIMbLD2rinnzXnjQVzDPdpEJwzvEddrb05EJH6FyWTgk2LkNxB_XU2G6bwcFg_HAiiAJX2R38bRSIxa62pjEBRtUMSJfctn9UauXff01ZwA6GJhv0tfLWyEvB1SENsxa47IgMpdL8WbBRyJ8WDwWKMyfJaxPwYFk5f9CHv9N8eVcyzJGl4TR22_3lCJBMVoOkJ4pjjUeMjdYVTehPyQPk3FaKv1VLM_mBFRstz1KOrRXUWKSvEeK1og3yBoZhOS_pk_Adi3Bl6oqNn9ob8nWEM5eDI4nXncPorF60g36lDL-I4LPJPBI0tzqkz7v7FxZXPQbwfu8ysbb9sr8uR_zNa6oRH842P8hVl_7PmrGxRxU_ncU57lsTN481suGwSTQ8rMHj5qzD3fHIYcD6_GvmNeAl5reRpJGJGJKsLwHeSA/file\n",
            "Reusing existing connection to uced8525f4895bf1deaf642da461.dl.dropboxusercontent.com:443.\n",
            "HTTP request sent, awaiting response... 200 OK\n",
            "Length: 63252113 (60M) [application/zip]\n",
            "Saving to: ‘archive.zip’\n",
            "\n",
            "archive.zip         100%[===================>]  60.32M   106MB/s    in 0.6s    \n",
            "\n",
            "2022-05-25 02:22:33 (106 MB/s) - ‘archive.zip’ saved [63252113/63252113]\n",
            "\n"
          ]
        }
      ]
    },
    {
      "cell_type": "code",
      "source": [
        "!unzip -q \"/content/archive.zip\""
      ],
      "metadata": {
        "id": "087iz63x0Gg8"
      },
      "execution_count": 3,
      "outputs": []
    },
    {
      "cell_type": "code",
      "source": [
        "import numpy as np # linear algebra\n",
        "import pandas as pd # data processing, CSV file I/O (e.g. pd.read_csv)\n",
        "import os\n",
        "import matplotlib.pyplot as plt\n",
        "import seaborn as sns\n",
        "import tensorflow as tf\n",
        "import keras\n",
        "from keras.preprocessing import image\n",
        "from keras.models import Sequential\n",
        "from keras.layers import Conv2D, MaxPool2D, Flatten,Dense,Dropout,BatchNormalization\n",
        "from tensorflow.keras.preprocessing.image import ImageDataGenerator\n",
        "import cv2\n",
        "from tensorflow.keras.applications import VGG16, InceptionResNetV2\n",
        "from keras import regularizers\n",
        "from tensorflow.keras.optimizers import Adam,RMSprop,SGD,Adamax"
      ],
      "metadata": {
        "id": "JvxlKjTjBdJh"
      },
      "execution_count": 4,
      "outputs": []
    },
    {
      "cell_type": "code",
      "source": [
        ""
      ],
      "metadata": {
        "id": "I4BsaqyLBjB0"
      },
      "execution_count": null,
      "outputs": []
    }
  ]
}